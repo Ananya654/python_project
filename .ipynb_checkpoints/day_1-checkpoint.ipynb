{
 "cells": [
  {
   "cell_type": "code",
   "execution_count": 9,
   "id": "f4928529-c8b7-4e68-ab78-aefe369daef3",
   "metadata": {},
   "outputs": [
    {
     "name": "stdout",
     "output_type": "stream",
     "text": [
      "Welcome to the band name generator.\n",
      "\n"
     ]
    },
    {
     "name": "stdin",
     "output_type": "stream",
     "text": [
      "What's the name of the city you grew up in?\n",
      " barrista\n",
      "What's your pet's name?\n",
      " pablo\n"
     ]
    },
    {
     "name": "stdout",
     "output_type": "stream",
     "text": [
      "\n",
      "Your band name could be barrista pablo.\n"
     ]
    }
   ],
   "source": [
    "#day_1: band name generator\n",
    "print(\"Welcome to the band name generator.\\n\")\n",
    "city = input(\"What's the name of the city you grew up in?\\n\")\n",
    "pet = input(\"What's your pet's name?\\n\")\n",
    "print(\"\\nYour band name could be \" + city + \" \"+  pet +\".\")"
   ]
  },
  {
   "cell_type": "code",
   "execution_count": null,
   "id": "6bf45af5-7e93-464a-ab9f-9fbc68081c53",
   "metadata": {},
   "outputs": [],
   "source": []
  }
 ],
 "metadata": {
  "kernelspec": {
   "display_name": "Python 3 (ipykernel)",
   "language": "python",
   "name": "python3"
  },
  "language_info": {
   "codemirror_mode": {
    "name": "ipython",
    "version": 3
   },
   "file_extension": ".py",
   "mimetype": "text/x-python",
   "name": "python",
   "nbconvert_exporter": "python",
   "pygments_lexer": "ipython3",
   "version": "3.12.4"
  }
 },
 "nbformat": 4,
 "nbformat_minor": 5
}
